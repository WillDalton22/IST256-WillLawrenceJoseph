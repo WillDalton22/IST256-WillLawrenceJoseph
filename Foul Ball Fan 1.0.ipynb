{
 "cells": [
  {
   "cell_type": "code",
   "execution_count": 3,
   "metadata": {},
   "outputs": [],
   "source": [
    "foul_ball_spots = {k.lower(): v for k, v in foul_ball_spots.items()}\n",
    "foul_ball_spots['Angels'] = ('Field MVP 110-112','Diamond Field Box 109','Field All-Star 108-109',\n",
    "                             'Field MVP 124-126','Diamond Field Box 127','Field All-Star 127-128')\n",
    "foul_ball_spots['Giants'] = ('Virgin America Club Level Infield 216-224','Lower Box 127-130','Premium Lower Box 125-126',\n",
    "                            'Virgin America Club Level Infield 207-215','Lower Box 101-104','Premium Lower Box 105-106')\n",
    "foul_ball_spots['Cardinals'] = ('Diamond Box 155-159','Dugout Box 161-165','3rd Base Field Box 161-165',\n",
    "                               'Diamond Box 140-145','Dugout Box 132, 135-139','1st Base Field Box 135-140')\n",
    "foul_ball_spots['Diamondbacks'] = ('Third Base Box N-R','Baseline Box 130-132','Baseline Reserve 133'\n",
    "                                  ,'First Base Box A-F','Baseline Box 112-114','Baseline Reserve 111')\n",
    "foul_ball_spots['Mets'] = ('Field Box  125-127','Baseline Box 128-129','Ebbets Club Gold, rows 1-2 of field seats in sections above'\n",
    "                          ,'Field Box 108-110','Baseline Box 106-107','Promenade Club Level 413-416')\n",
    "foul_ball_spots['Phillies'] = ('Baseline 133-138','Baseline 109-114')\n",
    "foul_ball_spots['Tigers'] = ('Outfield Box 138-142','Infield Box 132-137','On Deck Circle 131-135',\n",
    "                            'Outfield Box 113-117','Infield Box 118-123','On Deck Circle 120-124')\n",
    "foul_ball_spots['Rockies'] = ('Outfield Box 144-145','Midfield Box 142-143','Infield Box 136-141',\n",
    "                             'Outfield Box 116-117','Midfield Box 118-119','Infield Box 120-125')\n",
    "foul_ball_spots['Dodgers'] = ('Dugout Club 7-15','Prime Ticket Club 27-37','Baseline Field Box 17-25',\n",
    "                             'Dugout Club 6-10','Prime Ticket Club 26-36','Infield Box 28-32')\n",
    "foul_ball_spots['Red Sox'] = ('Loge Box 155-164','Field Box 71-82','Field Box 62-70',\n",
    "                             'Right Field Box 5-8 & 93-97','Field Box 9-17','Field Box 18-27')\n",
    "foul_ball_spots['Reds'] = ('Infield Box 111-112','Field Box 113-119','Dugout Box 114-119',\n",
    "                          'Infield Box 127-133','Field Box 134-135','Dugout Box 127-133')\n",
    "foul_ball_spots['Royals'] = ('Field Box 112-115','Dugout Box 116-117','Field Box 140-143',\n",
    "                            'Dugout Box 137-139')\n",
    "foul_ball_spots['Marlins'] = ('Base Reserved 21-22','Baseline Reserved 23-26','Clubhouse Box 19-25',\n",
    "                             'Base Reserved 7-8','Baseline Reserved 3-6','Clubhouse Box 4-10')\n",
    "foul_ball_spots['Brewers'] = ('Field Diamond Box 122-125','Field Outfield Box 126-129','Field Diamond Box 110-113',\n",
    "                             'Field Outfield Box 107-109','Loge Diamond Box 216-221','Loge Infield Box 216-221')\n",
    "foul_ball_spots['Astros'] = ('Dugout Box I & II 112-114','Field Box I & II 105-111','Dugout Box I & II 124-126',\n",
    "                            'Field Box I & II 127-132','Club I 211-228')\n",
    "foul_ball_spots['Nationals'] = ('Infield 110-117','115-117','Infield 128-135',\n",
    "                               '128-130')\n",
    "foul_ball_spots['Athletics'] = ('MVP Infield 111-114','Section 108-110','Section 104-107',\n",
    "                               'MVP Infield 120-123','Section 124-126','Section 127-130')\n",
    "foul_ball_spots['Orioles'] = ('Field Box 54, 56, 58','Lower Box 60, 62, 64','Field Box 16, 18, 20',\n",
    "                             'Lower Box 10, 12, 14','218-230, 242-252')\n",
    "foul_ball_spots['Padres'] = ('Field Box VIP 106-110','Field Box Infield 112, 114','Field Box 116',\n",
    "                            'Field Box VIP 105-109','Field Box Infield 111,113','Toyota Terrace Infield 201-204')\n",
    "foul_ball_spots['Pirates'] = ('Dugout Box 22-24','Baseline Box 25-27','Infield Box 124',\n",
    "                             'Dugout Box 9-11','Baseline Box 5-8','Left Field Box 125')\n",
    "foul_ball_spots['Indians'] = ('Diamond Box 160-167','Field Box 160-164','Lower Box 165, 167, 169, 170',\n",
    "                             'Diamond Box 136-146','Field Box 140-146','Lower Box 130, 131, 134, 136, 138')\n",
    "foul_ball_spots['Rangers'] = ('Corner Box 12-13','Lower Box 14-17','Premium Infield 18-20',\n",
    "                             'Corner Box 39-40','Lower Box 35-38','Premium Infield 32-34')\n",
    "foul_ball_spots['Blue Jays'] = ('Section 128-130d','Section 115-113d','Sections behind the dugout',\n",
    "                               'Sections 135-138','Sections 105-108')\n",
    "foul_ball_spots['Mariners'] = ('Lower Box 137-141','Field Box 142-143','Terrace Club 233-243',\n",
    "                              'Lower Box 119-123','Field Box 112-118','Terrace Club 217-227')\n",
    "foul_ball_spots['Twins'] = ('Sections 12-14','Sections 119-120','Sections 2-5',\n",
    "                            'Sections 107-109')\n",
    "foul_ball_spots['Rays'] = ('Fieldside Box  110-126','Lower Infield Box 112-120','Lower Box 108-112',\n",
    "                          'Fieldside Box 110-125','Lower Infield Box 111-119','Lower Box 107-111')\n",
    "foul_ball_spots['Braves'] = ('Sections 111-116','Sections 135-141')\n",
    "foul_ball_spots['White Sox'] = ('Lower Box 144-150','Premium Lower Box 142-143','Lower Box 113-120',\n",
    "                               'Premium Lower Box 121-122')\n",
    "foul_ball_spots['Cubs'] = ('Field Box 104-111','Club Box 4-11','Field Box 133-140',\n",
    "                          'Club Box 33-38')\n",
    "foul_ball_spots['Yankees'] = ('Champions Suite 27B-29','Legends Suite 23-27A','Field Infield 127-128',\n",
    "                             'Champions Suite 11-13','Legends Suite 14-17','Field Infield 112-114')"
   ]
  },
  {
   "cell_type": "code",
   "execution_count": 4,
   "metadata": {
    "scrolled": true
   },
   "outputs": [
    {
     "name": "stdout",
     "output_type": "stream",
     "text": [
      "Please enter your nearest home team name: yankees\n",
      "Please enter an away team you would like to see: mets\n",
      "Yankees VS Mets\n",
      "New York Yankee Stadium\n",
      "2018-07-20 7:05PM\n",
      "________________________________________________________________________________\n",
      "Yankees VS Mets\n",
      "New York Yankee Stadium\n",
      "2018-07-21 1:05PM\n",
      "________________________________________________________________________________\n",
      "Yankees VS Mets\n",
      "New York Yankee Stadium\n",
      "2018-07-22 8:05PM\n",
      "________________________________________________________________________________\n"
     ]
    }
   ],
   "source": [
    "import requests\n",
    "import json\n",
    "import base64\n",
    "response = requests.get(\n",
    "            url=\"https://api.mysportsfeeds.com/v1.2/pull/mlb/2018-regular/full_game_schedule.json\",\n",
    "            params={\"fordate\": \"20161121\"},\n",
    "            headers={\"Authorization\": \"Basic \" + base64.b64encode('{}:{}'.format(\"willjosephlawrence\",\"Sa2nd2yh#ook\").encode('utf-8')).decode('ascii')})\n",
    "y = response.json()\n",
    "y\n",
    "team = input('Please enter your nearest home team name: ')\n",
    "a_team = input('Please enter an away team you would like to see: ')\n",
    "#gamedate = input('Please Enter A Date: ')\n",
    "for h in y['fullgameschedule']['gameentry']: \n",
    "        if h['homeTeam']['Name'].lower()==team.lower() and h['awayTeam']['Name'].lower()==a_team.lower():\n",
    "            date = h['date']\n",
    "            time = h['time']\n",
    "            city = h['homeTeam']['City']\n",
    "            s_location = h['location']\n",
    "            home_team = h['homeTeam']['Name']\n",
    "            away_team = h['awayTeam']['Name']\n",
    "            print('%s VS %s'%(home_team,away_team))\n",
    "            print(city,s_location)\n",
    "            print(date,time)\n",
    "            print(\"_\"*80)\n",
    "              "
   ]
  },
  {
   "cell_type": "code",
   "execution_count": 10,
   "metadata": {},
   "outputs": [
    {
     "name": "stdout",
     "output_type": "stream",
     "text": [
      "Please select a date above to catch a foul ball! ~2018-mm-dd~: 2018-09-21\n",
      "Please enter the right date from the available ones above.\n",
      "Please select a date above to catch a foul ball! ~2018-mm-dd~: 2018-09-20\n",
      "Yankees VS Red Sox\n",
      "New York Yankee Stadium\n",
      "2018-09-20 7:05PM\n",
      "Below are the best seats to catch a foul ball.\n",
      "\n",
      "('Champions Suite 27B-29', 'Legends Suite 23-27A', 'Field Infield 127-128', 'Champions Suite 11-13', 'Legends Suite 14-17', 'Field Infield 112-114')\n",
      "\n",
      "Here are the best foul ball spots. Get your glove ready!\n"
     ]
    }
   ],
   "source": [
    "\n",
    "while True:\n",
    "    gamedate = input('Please select a date above to catch a foul ball! ~2018-mm-dd~: ')\n",
    "    if gamedate == date:\n",
    "        print('%s VS %s'%(home_team,away_team))\n",
    "        print(city,s_location)\n",
    "        print(date,time)\n",
    "        print(\"Below are the best seats to catch a foul ball.\")\n",
    "        print(\"\")\n",
    "        print(foul_ball_spots[team])\n",
    "        print(\"\")\n",
    "        print('Here are the best foul ball spots. Get your glove ready!')\n",
    "        break\n",
    "    else:\n",
    "        print(\"Please enter the right date from the available ones above.\")"
   ]
  },
  {
   "cell_type": "code",
   "execution_count": null,
   "metadata": {},
   "outputs": [],
   "source": []
  }
 ],
 "metadata": {
  "kernelspec": {
   "display_name": "Python 3",
   "language": "python",
   "name": "python3"
  },
  "language_info": {
   "codemirror_mode": {
    "name": "ipython",
    "version": 3
   },
   "file_extension": ".py",
   "mimetype": "text/x-python",
   "name": "python",
   "nbconvert_exporter": "python",
   "pygments_lexer": "ipython3",
   "version": "3.6.3"
  }
 },
 "nbformat": 4,
 "nbformat_minor": 2
}
